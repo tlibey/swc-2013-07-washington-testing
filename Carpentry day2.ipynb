{
 "metadata": {
  "name": "Carpentry day2"
 },
 "nbformat": 3,
 "nbformat_minor": 0,
 "worksheets": [
  {
   "cells": [
    {
     "cell_type": "code",
     "collapsed": false,
     "input": [
      "import numpy\n",
      "\n",
      "def unicorn_awesome(x,y):\n",
      "    \"\"\"Calculate unicorn awesome based on parrots x and eagles y.\n",
      "\n",
      "    Input\n",
      "    ----\n",
      "    etc\n",
      "    \"\"\"\n",
      "    return numpy.exp(y-x)"
     ],
     "language": "python",
     "metadata": {},
     "outputs": [],
     "prompt_number": 1
    },
    {
     "cell_type": "code",
     "collapsed": false,
     "input": [
      "unicorn_awesome?"
     ],
     "language": "python",
     "metadata": {},
     "outputs": [],
     "prompt_number": 2
    },
    {
     "cell_type": "code",
     "collapsed": false,
     "input": [
      "try:\n",
      "    D = {\"stuff\":1}\n",
      "    print D[\"not stuff\"]\n",
      "except Exception as e:\n",
      "    print \"whoops?\"\n",
      "    print e"
     ],
     "language": "python",
     "metadata": {},
     "outputs": [
      {
       "output_type": "stream",
       "stream": "stdout",
       "text": [
        "whoops?\n",
        "'not stuff'\n"
       ]
      }
     ],
     "prompt_number": 22
    },
    {
     "cell_type": "code",
     "collapsed": false,
     "input": [
      "def fib(N):\n",
      "    \n",
      "    start = \"1\"\n",
      "    for i in range(N):\n",
      "        #if i == ():\n",
      "         #   start += \"1\"\n",
      "        #else:\n",
      "            start += \"0\"\n",
      "    \n",
      "    dd = {0:start}\n",
      "    d = \"\"\n",
      "    for i in range(1,N+1):\n",
      "        for j in range(N):\n",
      "            if j == 0:\n",
      "                d+= str(0+int(dd[i-1][j]))\n",
      "            elif j==N-1:\n",
      "                d+= str(int(dd[i-1][j])+0)\n",
      "            else:\n",
      "                d += str(int(dd[i-1][j-1])+int(dd[i-1][j]))\n",
      "        dd[i] = d\n",
      "        d=\"\"\n",
      "    for i in range(N+1):\n",
      "        dd[i] = dd[i].replace(\"0\",\" \")\n",
      "    return dd"
     ],
     "language": "python",
     "metadata": {},
     "outputs": [],
     "prompt_number": 106
    },
    {
     "cell_type": "code",
     "collapsed": false,
     "input": [
      "print fib(20)"
     ],
     "language": "python",
     "metadata": {},
     "outputs": [
      {
       "output_type": "stream",
       "stream": "stdout",
       "text": [
        "{0: '1                    ', 1: '11                  ', 2: '121                 ', 3: '1331                ', 4: '14641               ', 5: '151 1 51              ', 6: '166111561           ', 7: '171272261171          ', 8: '1883994872881       ', 9: '191611121813121591 1691      ', 10: '11 1 7722339944336141 11', 11: '121117149456121813876974', 12: '133228851313911733994117', 13: '146541 16136444121 281 6129', 14: '151 11951177491 8853312', 15: '1661121 146281411131 1816133', 16: '171272331151 81 9552241', 17: '18839956426618919141 2', 18: '191611121814111 681279171 1 1 51', 19: '11 1 772233995522161492', 20: '1211171494561218141 74371'}\n"
       ]
      }
     ],
     "prompt_number": 107
    },
    {
     "cell_type": "code",
     "collapsed": false,
     "input": [
      "numpy.mean?"
     ],
     "language": "python",
     "metadata": {},
     "outputs": [],
     "prompt_number": 108
    },
    {
     "cell_type": "code",
     "collapsed": false,
     "input": [
      "def meanlist(a):\n",
      "    r\"\"\" doc\n",
      "\n",
      "    a is list\n",
      "\n",
      "    \"\"\"\n",
      "    import nose.tools as nt\n",
      "    try:\n",
      "        nt.assert_is_instance(a,list)\n",
      "    except AssertionError:\n",
      "        raise TypeError(\"Not a list!\")\n",
      "        \n",
      "    \n",
      "    try:\n",
      "        assert len(a) > 0\n",
      "    except AssertionError:\n",
      "        raise TypeError(\"List not populated!\")\n",
      "    \n",
      "    \n",
      "        \n",
      "        \n",
      "    n = len(a)\n",
      "    m = 0.0\n",
      "    for i in a:\n",
      "        try:\n",
      "            i = float(i)\n",
      "            m+=i\n",
      "        except ValueError as e:\n",
      "            return \"failure: string not convertable to #\"\n",
      "        except Exception as e:\n",
      "            return e\n",
      "        #assert type(i)!=str  \n",
      "    return m/float(n)\n"
     ],
     "language": "python",
     "metadata": {},
     "outputs": [],
     "prompt_number": 277
    },
    {
     "cell_type": "code",
     "collapsed": false,
     "input": [
      "def meanTest():\n",
      "    import nose.tools as nt\n",
      "    #stress test\n",
      "    for i in range(1,1000):\n",
      "        a = []\n",
      "        for j in range(1,i+1):\n",
      "            a.append(j)\n",
      "        assert meanlist(a) == float(i)/2+0.5\n",
      "    \n",
      "    #string test\n",
      "    a = [\"1\",\"2\",\"3\",\"4\"]\n",
      "    assert meanlist(a) == 2.5\n",
      "    #failure\n",
      "    #a = []\n",
      "    #assert meanlist(a) == TypeError\n",
      "    #meanlist(a) \n",
      "    #nt.assert_raises(TypeError)\n",
      "    #a = 1\n",
      "    #assert meanlist(a) == TypeError\n",
      "    \n",
      "    a = [\"a\",\"b\",\"c\"]\n",
      "    assert meanlist(a) == \"failure: string not convertable to #\"\n",
      "    "
     ],
     "language": "python",
     "metadata": {},
     "outputs": [],
     "prompt_number": 304
    },
    {
     "cell_type": "code",
     "collapsed": false,
     "input": [
      "nt.assert_raises?"
     ],
     "language": "python",
     "metadata": {},
     "outputs": [],
     "prompt_number": 298
    },
    {
     "cell_type": "code",
     "collapsed": false,
     "input": [
      "meanTest()"
     ],
     "language": "python",
     "metadata": {},
     "outputs": [],
     "prompt_number": 305
    },
    {
     "cell_type": "code",
     "collapsed": false,
     "input": [],
     "language": "python",
     "metadata": {},
     "outputs": []
    }
   ],
   "metadata": {}
  }
 ]
}